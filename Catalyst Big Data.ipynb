{
 "cells": [
  {
   "cell_type": "code",
   "execution_count": 13,
   "metadata": {},
   "outputs": [
    {
     "data": {
      "text/html": [
       "\n",
       "<style>\n",
       "#notebook code {\n",
       "background-color: #333;\n",
       "color: white;\n",
       "padding: 0 0.25em;\n",
       "}\n",
       "</style>\n"
      ],
      "text/plain": [
       "<IPython.core.display.HTML object>"
      ]
     },
     "execution_count": 13,
     "metadata": {},
     "output_type": "execute_result"
    }
   ],
   "source": [
    "# ignore this, it just makes the code lines easier to see\n",
    "\n",
    "from IPython.core.display import HTML\n",
    "HTML(\"\"\"\n",
    "<style>\n",
    "#notebook code {\n",
    "background-color: #333;\n",
    "color: white;\n",
    "padding: 0 0.25em;\n",
    "}\n",
    "</style>\n",
    "\"\"\")"
   ]
  },
  {
   "cell_type": "markdown",
   "metadata": {},
   "source": [
    "# Load Data\n",
    "\n",
    "What's the most important part of big data? *Data!*\n",
    "\n",
    "The files we're loading include\n",
    "* A matrix that counts the occurrences of songs in each playlist\n",
    "    * Each row of the matrix represents a song\n",
    "    * Each column represents a playlist\n",
    "    * If there is a `1` at row `i` and column `j`, it means that song `i` occurs in playlist `j`\n",
    "    * Note: This is a numpy array so it has some special properties that normal matrices don't have\n",
    "* An array that converts a track index to a track id\n",
    "    * We only know the index numbers of the matrix, so we have to have a way to convert a given index to a track id\n",
    "    * If we want to know the track id of the song at row `i`, we take `trackIndexToTrackId[i]`\n",
    "* A dictionary to convert a track id to the appropriate index, for when we want to look stuff up\n",
    "    * If we want to look up the song with id `'0m3Ze0cy8qBHSsV2exAfCw'` in the matrix, we need to know what row to check\n",
    "    * We would figure out the row number by doing `trackIdToTrackIndex['0m3Ze0cy8qBHSsV2exAfCw']`\n",
    "* A dictionary to convert a track id to the track's actual name\n",
    "    * If we want to know what song `'0m3Ze0cy8qBHSsV2exAfCw'` is, we would do `trackIdToTrackName['0m3Ze0cy8qBHSsV2exAfCw']`"
   ]
  },
  {
   "cell_type": "code",
   "execution_count": 1,
   "metadata": {
    "collapsed": true
   },
   "outputs": [],
   "source": [
    "import joblib\n",
    "\n",
    "frequencyMatrix = joblib.load('frequencyMatrix.joblib')\n",
    "trackIndexToTrackId = joblib.load('trackArray.joblib')\n",
    "trackIdToTrackIndex = joblib.load('trackIndexer.joblib')\n",
    "trackIdToTrackName = joblib.load('trackIdToNameMap.joblib')"
   ]
  },
  {
   "cell_type": "markdown",
   "metadata": {},
   "source": [
    "## Shape of Our Data\n",
    "We know that rows represent songs and columns represent playlists in our matrix\n",
    "\n",
    "Let's figure out how many songs and playlists we have, using only our matrix!\n",
    "\n",
    "Try calling `frequencyMatrix.shape` – the first element of the output is our # songs, the second element is the # playlists"
   ]
  },
  {
   "cell_type": "code",
   "execution_count": 2,
   "metadata": {
    "collapsed": true
   },
   "outputs": [],
   "source": [
    "# your code here"
   ]
  },
  {
   "cell_type": "markdown",
   "metadata": {},
   "source": [
    "## Investigate!\n",
    "\n",
    "What Kanye song is played on the most playlists?\n",
    "\n",
    "Tips:\n",
    "* Use a for loop to iterate over each row\n",
    "* Use the `sum` method to count the number of occurrences in a list – `sum([1,2,3])` returns `6`"
   ]
  },
  {
   "cell_type": "code",
   "execution_count": 3,
   "metadata": {
    "collapsed": true
   },
   "outputs": [],
   "source": [
    "# your code here"
   ]
  },
  {
   "cell_type": "markdown",
   "metadata": {},
   "source": [
    "## Investigate!\n",
    "\n",
    "What playlist number has the most Kanye songs? How many Kanye songs are in it?\n",
    "\n",
    "Tips:\n",
    "* Use a for loop to iterate over each column\n",
    "* By calling `frequencyMatrix[:, 0]`, you can get the first column of the matrix"
   ]
  },
  {
   "cell_type": "code",
   "execution_count": 4,
   "metadata": {
    "collapsed": true
   },
   "outputs": [],
   "source": [
    "# your code here"
   ]
  },
  {
   "cell_type": "markdown",
   "metadata": {},
   "source": [
    "## Investigate!\n",
    "\n",
    "What two Kanye songs are the most similar based on\n",
    "1. dot product\n",
    "2. magnitude of vector difference\n",
    "\n",
    "Tips:\n",
    "* Use two for loops\n",
    "* Make sure you're not comparing the same song to itself\n",
    "* `np.dot(vector1, vector2)` can compute the dot product of two vectors\n",
    "* You can subtract vectors by doing `vector1 - vector2` - note, this only works with numpy arrays or other fancy objects, not normal lists\n",
    "* `np.linalg.norm(vector)` can compute the magnitude of the difference of a vector\n"
   ]
  },
  {
   "cell_type": "code",
   "execution_count": 5,
   "metadata": {
    "collapsed": true
   },
   "outputs": [],
   "source": [
    "# your code here"
   ]
  },
  {
   "cell_type": "markdown",
   "metadata": {},
   "source": [
    "## Investigate!\n",
    "\n",
    "Combine two songs! Pick two song vectors, find their average, and find the closest song to them using the methods from the last step. What did your songs combine to form?"
   ]
  },
  {
   "cell_type": "code",
   "execution_count": 6,
   "metadata": {
    "collapsed": true
   },
   "outputs": [],
   "source": [
    "# your code here"
   ]
  }
 ],
 "metadata": {
  "kernelspec": {
   "display_name": "Python 3",
   "language": "python",
   "name": "python3"
  },
  "language_info": {
   "codemirror_mode": {
    "name": "ipython",
    "version": 3
   },
   "file_extension": ".py",
   "mimetype": "text/x-python",
   "name": "python",
   "nbconvert_exporter": "python",
   "pygments_lexer": "ipython3",
   "version": "3.6.6"
  }
 },
 "nbformat": 4,
 "nbformat_minor": 2
}
